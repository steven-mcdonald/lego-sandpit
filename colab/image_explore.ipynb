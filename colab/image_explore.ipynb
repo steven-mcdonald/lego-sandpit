{
 "cells": [
  {
   "cell_type": "code",
   "execution_count": 1,
   "id": "6e8bc2a8",
   "metadata": {},
   "outputs": [],
   "source": [
    "from PIL import Image\n",
    "import numpy as np\n",
    "import matplotlib.pyplot as plt\n",
    "import os, sys\n",
    "import pickle\n",
    "import time\n",
    "from natsort import natsorted, ns"
   ]
  },
  {
   "cell_type": "code",
   "execution_count": 2,
   "id": "320d8007",
   "metadata": {},
   "outputs": [],
   "source": [
    "# img_path = '/Users/Steven/Documents/projects/data/lego/01_raw/2x2_green/'\n",
    "# img_fname = 'IMG_4694.jpeg'"
   ]
  },
  {
   "cell_type": "code",
   "execution_count": 3,
   "id": "1afdfdc6",
   "metadata": {},
   "outputs": [],
   "source": [
    "def load_image2np(path):\n",
    "    '''load jpeg image from path and output as numpy array'''\n",
    "    img = Image.open(path) # open jpeg as PIL Image \n",
    "    img_np = np.array(img) # convert to numpy array shape: height x width x channel\n",
    "    return img_np"
   ]
  },
  {
   "cell_type": "code",
   "execution_count": 4,
   "id": "014f78ef",
   "metadata": {},
   "outputs": [],
   "source": [
    "def load_image(path):\n",
    "    '''load jpeg image from path and output as numpy array'''\n",
    "    img = Image.open(path) # open jpeg as PIL Image \n",
    "    return img"
   ]
  },
  {
   "cell_type": "code",
   "execution_count": 5,
   "id": "434b7f27",
   "metadata": {},
   "outputs": [],
   "source": [
    "def plot_image(img_np, figsize=(6, 6)):\n",
    "    '''plot image from numpy array'''\n",
    "    fig, ax = plt.subplots(figsize=figsize)\n",
    "    ax.imshow(img_np)\n",
    "    plt.show()"
   ]
  },
  {
   "cell_type": "code",
   "execution_count": 6,
   "id": "5688c504",
   "metadata": {},
   "outputs": [],
   "source": [
    "def resize_image(img, imgsize=(32,32)):\n",
    "    '''take PIL image and resize'''\n",
    "    imgResize = img.resize(imgsize, Image.ANTIALIAS)\n",
    "    return imgResize"
   ]
  },
  {
   "cell_type": "code",
   "execution_count": 7,
   "id": "684b5810",
   "metadata": {},
   "outputs": [],
   "source": [
    "def resize_image_np(img_np, imgsize=(32,32)):\n",
    "    '''take image as numpy array and resize in PIL before reconverting to numpy array'''\n",
    "    img = Image.fromarray(img_np)\n",
    "    imgResize = img.resize(imgsize, Image.ANTIALIAS)\n",
    "    imgResize_np = np.array(imgResize)\n",
    "    return imgResize_np"
   ]
  },
  {
   "cell_type": "code",
   "execution_count": 8,
   "id": "0738b97a",
   "metadata": {},
   "outputs": [],
   "source": [
    "def dir_fname_list(dir_path, suffix='jpeg', sorting=False):\n",
    "    \"\"\"load all files from a directory with a given suffix \n",
    "    into a dictionary with keys: filenames and files\"\"\"\n",
    "    \n",
    "    # create list of filename prefixes in directory\n",
    "    filenames = [f for f in os.listdir(dir_path) if f.split('.')[1] == suffix]\n",
    "    \n",
    "    # if sorting requested then sort filenames\n",
    "    if sorting:        \n",
    "        filenames = natsorted(filenames, alg=ns.IGNORECASE)\n",
    "                    \n",
    "    return filenames"
   ]
  },
  {
   "cell_type": "code",
   "execution_count": 12,
   "id": "2b8f41c0",
   "metadata": {},
   "outputs": [
    {
     "name": "stdout",
     "output_type": "stream",
     "text": [
      "/Users/Steven/Documents/projects/data/lego/01_raw/4x2_green/\n",
      "0\n",
      "4x2_green\n",
      "Time taken: 94.77 seconds\n",
      "/Users/Steven/Documents/projects/data/lego/01_raw/2x2_green/\n",
      "1\n",
      "2x2_green\n",
      "Time taken: 187.43 seconds\n",
      "/Users/Steven/Documents/projects/data/lego/01_raw/3x1_green/\n",
      "2\n",
      "3x1_green\n",
      "Time taken: 260.23 seconds\n"
     ]
    }
   ],
   "source": [
    "base_path = '/Users/Steven/Documents/projects/data/lego/'\n",
    "bricks = ['4x2_green', '2x2_green', '3x1_green']\n",
    "# bricks = ['4x2_green']\n",
    "combined_dict = {'fname':[], 'image':[], 'label':[], 'class':[]}\n",
    "\n",
    "st = time.time()\n",
    "for i, brick in enumerate(bricks):\n",
    "    raw_path = base_path + '01_raw/' + brick + '/'\n",
    "    print(raw_path)\n",
    "    print(i)\n",
    "    print(brick)\n",
    "    \n",
    "    fnames = dir_fname_list(raw_path, suffix='jpeg', sorting=True)\n",
    "    img_list = [load_image(raw_path + f) for f in fnames]\n",
    "    imgResize_list = [resize_image(img, imgsize=(32,32)) for img in img_list]\n",
    "\n",
    "    list_len = len(fnames)\n",
    "    label_list = [brick]*list_len \n",
    "    class_list = [i]*list_len\n",
    "    \n",
    "    combined_dict['fname'].extend(fnames)\n",
    "    combined_dict['image'].extend(imgResize_list)\n",
    "    combined_dict['label'].extend(label_list)\n",
    "    combined_dict['class'].extend(class_list)\n",
    "    \n",
    "    print('Time taken: {:.2f} seconds'.format(time.time() - st))"
   ]
  },
  {
   "cell_type": "code",
   "execution_count": 13,
   "id": "0b7271e5",
   "metadata": {},
   "outputs": [
    {
     "name": "stdout",
     "output_type": "stream",
     "text": [
      "IMG_4426.jpeg\n",
      "3x1_green\n",
      "2\n"
     ]
    },
    {
     "data": {
      "image/png": "[encoded data removed]",
      "text/plain": [
       "<Figure size 432x432 with 1 Axes>"
      ]
     },
     "metadata": {
      "needs_background": "light"
     },
     "output_type": "display_data"
    }
   ],
   "source": [
    "print(combined_dict['fname'][800])\n",
    "print(combined_dict['label'][800])\n",
    "print(combined_dict['class'][800])\n",
    "plot_image(np.array(combined_dict['image'][800]), figsize=(6, 6))"
   ]
  },
  {
   "cell_type": "code",
   "execution_count": 14,
   "id": "3dd65923",
   "metadata": {},
   "outputs": [
    {
     "name": "stdout",
     "output_type": "stream",
     "text": [
      "Time taken: 1.34 seconds\n"
     ]
    }
   ],
   "source": [
    "save_dir = base_path + 'pickles/'\n",
    "# make output directory if it does not exist\n",
    "if not os.path.exists(save_dir):\n",
    "    os.makedirs(save_dir)\n",
    "    \n",
    "st = time.time()    \n",
    "# Save resized img dictionary\n",
    "with open(save_dir + 'resized_img_dict_v01.pickle', 'wb') as handle:\n",
    "    pickle.dump(combined_dict, handle)  \n",
    "print('Time taken: {:.2f} seconds'.format(time.time() - st))"
   ]
  },
  {
   "cell_type": "code",
   "execution_count": null,
   "id": "8c275e95",
   "metadata": {},
   "outputs": [],
   "source": []
  }
 ],
 "metadata": {
  "kernelspec": {
   "display_name": "Python 3",
   "language": "python",
   "name": "python3"
  },
  "language_info": {
   "codemirror_mode": {
    "name": "ipython",
    "version": 3
   },
   "file_extension": ".py",
   "mimetype": "text/x-python",
   "name": "python",
   "nbconvert_exporter": "python",
   "pygments_lexer": "ipython3",
   "version": "3.8.10"
  }
 },
 "nbformat": 4,
 "nbformat_minor": 5
}
