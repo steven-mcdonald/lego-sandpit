{
 "cells": [
  {
   "cell_type": "code",
   "execution_count": 2,
   "id": "0507faa6",
   "metadata": {},
   "outputs": [],
   "source": [
    "# libraries\n",
    "import matplotlib.pyplot as plt\n",
    "import seaborn as sns\n",
    "import numpy as np\n",
    "import pandas as pd\n",
    "import torch\n",
    "from torch import nn # 'object-oriented'\n",
    "from torch.nn import functional as F # 'functions'\n",
    "from torch.utils.data import DataLoader, Sampler\n",
    "from torchvision import transforms, datasets # useful for converting and structuring the MNIST data\n",
    "from torchvision.utils import make_grid\n",
    "import time\n",
    "import copy\n",
    "import random\n",
    "import pickle\n",
    "from PIL import Image\n",
    "from collections import OrderedDict\n",
    "\n",
    "from sklearn.model_selection import train_test_split"
   ]
  },
  {
   "cell_type": "code",
   "execution_count": 3,
   "id": "f71618a8",
   "metadata": {},
   "outputs": [
    {
     "name": "stdout",
     "output_type": "stream",
     "text": [
      "device: cpu\n"
     ]
    }
   ],
   "source": [
    "device = torch.device(\"cuda\" if torch.cuda.is_available() else \"cpu\")\n",
    "print('device:', device)"
   ]
  },
  {
   "cell_type": "code",
   "execution_count": 4,
   "id": "b20d602a",
   "metadata": {},
   "outputs": [],
   "source": [
    "# set reandom seeds to allow repeat test comparisons\n",
    "torch.backends.cudnn.deterministic = True\n",
    "random.seed(42)\n",
    "torch.manual_seed(42)\n",
    "torch.cuda.manual_seed(42)\n",
    "np.random.seed(42)"
   ]
  },
  {
   "cell_type": "code",
   "execution_count": 5,
   "id": "21b9872a",
   "metadata": {},
   "outputs": [],
   "source": [
    "base_path = '/Users/Steven/Documents/projects/data/lego/'"
   ]
  },
  {
   "cell_type": "code",
   "execution_count": 6,
   "id": "895632b1",
   "metadata": {},
   "outputs": [],
   "source": [
    "pickle_dir = base_path + 'pickles/'\n",
    "# load landmarks\n",
    "with open(pickle_dir + 'resized_img_dict_v01.pickle', 'rb') as handle:\n",
    "    combined_dict = pickle.load(handle)"
   ]
  },
  {
   "cell_type": "code",
   "execution_count": 7,
   "id": "c9982cf0",
   "metadata": {},
   "outputs": [
    {
     "data": {
      "text/plain": [
       "dict_keys(['fname', 'image', 'label', 'class'])"
      ]
     },
     "execution_count": 7,
     "metadata": {},
     "output_type": "execute_result"
    }
   ],
   "source": [
    "combined_dict.keys()"
   ]
  },
  {
   "cell_type": "code",
   "execution_count": 8,
   "id": "feb8304a",
   "metadata": {},
   "outputs": [],
   "source": [
    "def load_imagelist2np(img_list):\n",
    "    '''load PIL images from list and output as numpy array list'''\n",
    "    img_list_np = []\n",
    "    for img in img_list:\n",
    "        img_list_np.append(np.array(img).astype('int16')) # convert to numpy array shape: height x width x channel\n",
    "    \n",
    "    return img_list_np"
   ]
  },
  {
   "cell_type": "code",
   "execution_count": 9,
   "id": "51ce3d3a",
   "metadata": {},
   "outputs": [],
   "source": [
    "img_list_np = load_imagelist2np(combined_dict['image'])"
   ]
  },
  {
   "cell_type": "code",
   "execution_count": 10,
   "id": "9754b2ec",
   "metadata": {},
   "outputs": [
    {
     "name": "stdout",
     "output_type": "stream",
     "text": [
      "torch.Size([1055, 32, 32, 3])\n",
      "torch.Size([1055, 3, 32, 32])\n"
     ]
    }
   ],
   "source": [
    "img_data_tensor = torch.tensor(img_list_np)\n",
    "print(img_data_tensor.shape)\n",
    "img_data_tensor = img_data_tensor.permute(0, 3, 1, 2)\n",
    "print(img_data_tensor.shape)"
   ]
  },
  {
   "cell_type": "code",
   "execution_count": 11,
   "id": "41a74fc8",
   "metadata": {},
   "outputs": [],
   "source": [
    "class_tensor = torch.tensor(combined_dict['class'])"
   ]
  },
  {
   "cell_type": "code",
   "execution_count": 12,
   "id": "62c63c52",
   "metadata": {},
   "outputs": [],
   "source": [
    "X_train, X_test, y_train, y_test, fname_train, fname_test = train_test_split(img_data_tensor, class_tensor, combined_dict['fname'], \n",
    "                                                                        test_size=0.20, stratify = class_tensor, random_state=42)\n",
    "X_train, X_val, y_train, y_val, fname_train, fname_val = train_test_split(X_train, y_train, fname_train, \n",
    "                                                                        test_size=0.20*(len(img_data_tensor)/len(X_train)), stratify = y_train, random_state=42)"
   ]
  },
  {
   "cell_type": "code",
   "execution_count": 13,
   "id": "694d2d13",
   "metadata": {},
   "outputs": [
    {
     "name": "stdout",
     "output_type": "stream",
     "text": [
      "torch.Size([633, 3, 32, 32])\n",
      "torch.Size([211, 3, 32, 32])\n",
      "torch.Size([211, 3, 32, 32])\n",
      "633\n",
      "211\n",
      "211\n"
     ]
    }
   ],
   "source": [
    "print(X_train.shape)\n",
    "print(X_val.shape)\n",
    "print(X_test.shape)\n",
    "print(len(fname_train))\n",
    "print(len(fname_val))\n",
    "print(len(fname_test))"
   ]
  },
  {
   "cell_type": "code",
   "execution_count": 14,
   "id": "c2ae722d",
   "metadata": {},
   "outputs": [
    {
     "name": "stdout",
     "output_type": "stream",
     "text": [
      "tensor(0)\n"
     ]
    },
    {
     "data": {
      "image/png": "[encoded data removed]",
      "text/plain": [
       "<Figure size 432x288 with 1 Axes>"
      ]
     },
     "metadata": {
      "needs_background": "light"
     },
     "output_type": "display_data"
    }
   ],
   "source": [
    "print(y_train[1])\n",
    "plt.imshow(X_train[1].permute(1, 2, 0))\n",
    "plt.show()"
   ]
  },
  {
   "cell_type": "code",
   "execution_count": 15,
   "id": "8f8d791d",
   "metadata": {},
   "outputs": [
    {
     "name": "stdout",
     "output_type": "stream",
     "text": [
      "torch.Size([1, 3, 32, 32])\n"
     ]
    }
   ],
   "source": [
    "X_train = X_train[:1]\n",
    "print(X_train.shape)"
   ]
  },
  {
   "cell_type": "code",
   "execution_count": 16,
   "id": "37ddee98",
   "metadata": {},
   "outputs": [
    {
     "name": "stdout",
     "output_type": "stream",
     "text": [
      "torch.Size([1, 3, 32, 32])\n"
     ]
    }
   ],
   "source": [
    "y_train = y_train[:1]\n",
    "print(X_train.shape)"
   ]
  },
  {
   "cell_type": "code",
   "execution_count": 17,
   "id": "e24d9ab7",
   "metadata": {},
   "outputs": [],
   "source": [
    "train_ds = torch.utils.data.TensorDataset(X_train, y_train)\n",
    "train_dl = DataLoader(train_ds, batch_size=1, shuffle=True)"
   ]
  },
  {
   "cell_type": "code",
   "execution_count": 18,
   "id": "9f874b34",
   "metadata": {},
   "outputs": [],
   "source": [
    "class Net(nn.Module):\n",
    "    def __init__(self):\n",
    "        super().__init__()\n",
    "        self.conv1 = nn.Conv2d(3, 6, 1)\n",
    "        self.pool = nn.MaxPool2d(2, 2)\n",
    "        self.conv2 = nn.Conv2d(6, 16, 1)\n",
    "        self.fc1 = nn.Linear(1024, 120)\n",
    "        self.fc2 = nn.Linear(120, 84)\n",
    "        self.fc3 = nn.Linear(84, 3)\n",
    "\n",
    "    def forward(self, x):\n",
    "        x = self.pool(F.relu(self.conv1(x)))\n",
    "        x = self.pool(F.relu(self.conv2(x)))\n",
    "#         print(x.shape)\n",
    "        x = torch.flatten(x, 1) # flatten all dimensions except batch\n",
    "#         print(x.shape)\n",
    "        x = F.relu(self.fc1(x))\n",
    "        x = F.relu(self.fc2(x))\n",
    "        x = self.fc3(x)\n",
    "        return x\n",
    "\n",
    "\n",
    "net = Net()"
   ]
  },
  {
   "cell_type": "code",
   "execution_count": 19,
   "id": "62e1bdd2",
   "metadata": {},
   "outputs": [],
   "source": [
    "criterion = nn.CrossEntropyLoss()\n",
    "optimizer = torch.optim.SGD(net.parameters(), lr=0.001, momentum=0.9)"
   ]
  },
  {
   "cell_type": "code",
   "execution_count": 20,
   "id": "e651c8ab",
   "metadata": {},
   "outputs": [
    {
     "name": "stdout",
     "output_type": "stream",
     "text": [
      "21.806983947753906\n",
      "1.4662635294371285e-05\n",
      "Finished Training\n"
     ]
    }
   ],
   "source": [
    "for epoch in range(2):  # loop over the dataset multiple times\n",
    "\n",
    "    running_loss = 0.0\n",
    "    for i, data in enumerate(train_dl, 0):\n",
    "        # get the inputs; data is a list of [inputs, labels]\n",
    "        inputs, labels = data\n",
    "\n",
    "        # zero the parameter gradients\n",
    "        optimizer.zero_grad()\n",
    "\n",
    "        # forward + backward + optimize\n",
    "        outputs = net(inputs.float())\n",
    "        loss = criterion(outputs, labels)\n",
    "        loss.backward()\n",
    "        optimizer.step()\n",
    "\n",
    "        # print statistics\n",
    "        running_loss += loss.item()\n",
    "        print(running_loss)\n",
    "#         if i % 2000 == 1999:    # print every 2000 mini-batches\n",
    "#             print('[%d, %5d] loss: %.3f' %\n",
    "#                   (epoch + 1, i + 1, running_loss / 2000))\n",
    "#             running_loss = 0.0\n",
    "\n",
    "print('Finished Training')"
   ]
  },
  {
   "cell_type": "code",
   "execution_count": null,
   "id": "804d4698",
   "metadata": {},
   "outputs": [],
   "source": []
  }
 ],
 "metadata": {
  "kernelspec": {
   "display_name": "Python 3",
   "language": "python",
   "name": "python3"
  },
  "language_info": {
   "codemirror_mode": {
    "name": "ipython",
    "version": 3
   },
   "file_extension": ".py",
   "mimetype": "text/x-python",
   "name": "python",
   "nbconvert_exporter": "python",
   "pygments_lexer": "ipython3",
   "version": "3.8.10"
  }
 },
 "nbformat": 4,
 "nbformat_minor": 5
}
